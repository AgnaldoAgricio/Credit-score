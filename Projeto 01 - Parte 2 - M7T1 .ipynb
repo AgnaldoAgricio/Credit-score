{
 "cells": [
  {
   "cell_type": "markdown",
   "metadata": {
    "id": "d8yCrvnM_2sd"
   },
   "source": [
    "# Módulo 07, Tarefa 01\n",
    "\n",
    "Vamos começar a mexer na nossa base de projeto? Já fizemos um exercício de montar a variável resposta, já pudemos perceber que essa atividade pode não ser trivial. Vamos agora trabalhar a base para que fique propícia ao *scikitlearn* para trabalharmos.\n",
    "\n",
    "Lembrando, a base se chama demo01.csv, e originalmente está publicada [aqui](https://www.kaggle.com/rikdifos/credit-card-approval-prediction)."
   ]
  },
  {
   "cell_type": "markdown",
   "metadata": {
    "id": "hcMBVVE8_2sg"
   },
   "source": [
    "#### 1) Carregue a base e avalie:\n",
    "\n",
    "- As variáveis\n",
    "- Tipos de dados de cada variável\n",
    "- Quantidade de missings\n",
    "- Distribuição da variável resposta (mau)"
   ]
  },
  {
   "cell_type": "code",
   "execution_count": 93,
   "metadata": {
    "id": "jfUxW_PX_2sh"
   },
   "outputs": [
    {
     "data": {
      "text/html": [
       "<div>\n",
       "<style scoped>\n",
       "    .dataframe tbody tr th:only-of-type {\n",
       "        vertical-align: middle;\n",
       "    }\n",
       "\n",
       "    .dataframe tbody tr th {\n",
       "        vertical-align: top;\n",
       "    }\n",
       "\n",
       "    .dataframe thead th {\n",
       "        text-align: right;\n",
       "    }\n",
       "</style>\n",
       "<table border=\"1\" class=\"dataframe\">\n",
       "  <thead>\n",
       "    <tr style=\"text-align: right;\">\n",
       "      <th></th>\n",
       "      <th>sexo</th>\n",
       "      <th>posse_de_veiculo</th>\n",
       "      <th>posse_de_imovel</th>\n",
       "      <th>qtd_filhos</th>\n",
       "      <th>tipo_renda</th>\n",
       "      <th>educacao</th>\n",
       "      <th>estado_civil</th>\n",
       "      <th>tipo_residencia</th>\n",
       "      <th>idade</th>\n",
       "      <th>tempo_emprego</th>\n",
       "      <th>possui_celular</th>\n",
       "      <th>possui_fone_comercial</th>\n",
       "      <th>possui_fone</th>\n",
       "      <th>possui_email</th>\n",
       "      <th>qt_pessoas_residencia</th>\n",
       "      <th>mau</th>\n",
       "    </tr>\n",
       "  </thead>\n",
       "  <tbody>\n",
       "    <tr>\n",
       "      <th>0</th>\n",
       "      <td>M</td>\n",
       "      <td>Y</td>\n",
       "      <td>Y</td>\n",
       "      <td>0</td>\n",
       "      <td>Working</td>\n",
       "      <td>Secondary / secondary special</td>\n",
       "      <td>Married</td>\n",
       "      <td>House / apartment</td>\n",
       "      <td>58.832877</td>\n",
       "      <td>3.106849</td>\n",
       "      <td>1</td>\n",
       "      <td>0</td>\n",
       "      <td>0</td>\n",
       "      <td>0</td>\n",
       "      <td>2.0</td>\n",
       "      <td>False</td>\n",
       "    </tr>\n",
       "    <tr>\n",
       "      <th>1</th>\n",
       "      <td>F</td>\n",
       "      <td>N</td>\n",
       "      <td>Y</td>\n",
       "      <td>0</td>\n",
       "      <td>Commercial associate</td>\n",
       "      <td>Secondary / secondary special</td>\n",
       "      <td>Single / not married</td>\n",
       "      <td>House / apartment</td>\n",
       "      <td>52.356164</td>\n",
       "      <td>8.358904</td>\n",
       "      <td>1</td>\n",
       "      <td>0</td>\n",
       "      <td>1</td>\n",
       "      <td>1</td>\n",
       "      <td>1.0</td>\n",
       "      <td>False</td>\n",
       "    </tr>\n",
       "    <tr>\n",
       "      <th>2</th>\n",
       "      <td>F</td>\n",
       "      <td>N</td>\n",
       "      <td>Y</td>\n",
       "      <td>0</td>\n",
       "      <td>Commercial associate</td>\n",
       "      <td>Secondary / secondary special</td>\n",
       "      <td>Single / not married</td>\n",
       "      <td>House / apartment</td>\n",
       "      <td>52.356164</td>\n",
       "      <td>8.358904</td>\n",
       "      <td>1</td>\n",
       "      <td>0</td>\n",
       "      <td>1</td>\n",
       "      <td>1</td>\n",
       "      <td>1.0</td>\n",
       "      <td>False</td>\n",
       "    </tr>\n",
       "    <tr>\n",
       "      <th>3</th>\n",
       "      <td>M</td>\n",
       "      <td>Y</td>\n",
       "      <td>Y</td>\n",
       "      <td>0</td>\n",
       "      <td>Working</td>\n",
       "      <td>Higher education</td>\n",
       "      <td>Married</td>\n",
       "      <td>House / apartment</td>\n",
       "      <td>46.224658</td>\n",
       "      <td>2.106849</td>\n",
       "      <td>1</td>\n",
       "      <td>1</td>\n",
       "      <td>1</td>\n",
       "      <td>1</td>\n",
       "      <td>2.0</td>\n",
       "      <td>False</td>\n",
       "    </tr>\n",
       "    <tr>\n",
       "      <th>4</th>\n",
       "      <td>F</td>\n",
       "      <td>Y</td>\n",
       "      <td>N</td>\n",
       "      <td>0</td>\n",
       "      <td>Working</td>\n",
       "      <td>Incomplete higher</td>\n",
       "      <td>Married</td>\n",
       "      <td>House / apartment</td>\n",
       "      <td>29.230137</td>\n",
       "      <td>3.021918</td>\n",
       "      <td>1</td>\n",
       "      <td>0</td>\n",
       "      <td>0</td>\n",
       "      <td>0</td>\n",
       "      <td>2.0</td>\n",
       "      <td>False</td>\n",
       "    </tr>\n",
       "  </tbody>\n",
       "</table>\n",
       "</div>"
      ],
      "text/plain": [
       "  sexo posse_de_veiculo posse_de_imovel  qtd_filhos            tipo_renda  \\\n",
       "0    M                Y               Y           0               Working   \n",
       "1    F                N               Y           0  Commercial associate   \n",
       "2    F                N               Y           0  Commercial associate   \n",
       "3    M                Y               Y           0               Working   \n",
       "4    F                Y               N           0               Working   \n",
       "\n",
       "                        educacao          estado_civil    tipo_residencia  \\\n",
       "0  Secondary / secondary special               Married  House / apartment   \n",
       "1  Secondary / secondary special  Single / not married  House / apartment   \n",
       "2  Secondary / secondary special  Single / not married  House / apartment   \n",
       "3               Higher education               Married  House / apartment   \n",
       "4              Incomplete higher               Married  House / apartment   \n",
       "\n",
       "       idade  tempo_emprego  possui_celular  possui_fone_comercial  \\\n",
       "0  58.832877       3.106849               1                      0   \n",
       "1  52.356164       8.358904               1                      0   \n",
       "2  52.356164       8.358904               1                      0   \n",
       "3  46.224658       2.106849               1                      1   \n",
       "4  29.230137       3.021918               1                      0   \n",
       "\n",
       "   possui_fone  possui_email  qt_pessoas_residencia    mau  \n",
       "0            0             0                    2.0  False  \n",
       "1            1             1                    1.0  False  \n",
       "2            1             1                    1.0  False  \n",
       "3            1             1                    2.0  False  \n",
       "4            0             0                    2.0  False  "
      ]
     },
     "execution_count": 93,
     "metadata": {},
     "output_type": "execute_result"
    }
   ],
   "source": [
    "import pandas as pd\n",
    "import seaborn as sns\n",
    "import matplotlib.pyplot as plt\n",
    "from matplotlib.ticker import MultipleLocator\n",
    "\n",
    "df = pd.read_csv('demo01.csv')\n",
    "\n",
    "df.head()"
   ]
  },
  {
   "cell_type": "code",
   "execution_count": 6,
   "metadata": {},
   "outputs": [
    {
     "data": {
      "text/plain": [
       "<bound method DataFrame.info of       sexo posse_de_veiculo posse_de_imovel  qtd_filhos            tipo_renda  \\\n",
       "0        M                Y               Y           0               Working   \n",
       "1        F                N               Y           0  Commercial associate   \n",
       "2        F                N               Y           0  Commercial associate   \n",
       "3        M                Y               Y           0               Working   \n",
       "4        F                Y               N           0               Working   \n",
       "...    ...              ...             ...         ...                   ...   \n",
       "16645    F                N               Y           0               Working   \n",
       "16646    F                N               Y           0  Commercial associate   \n",
       "16647    M                Y               Y           0               Working   \n",
       "16648    M                Y               Y           0               Working   \n",
       "16649    F                N               Y           0             Pensioner   \n",
       "\n",
       "                            educacao          estado_civil    tipo_residencia  \\\n",
       "0      Secondary / secondary special               Married  House / apartment   \n",
       "1      Secondary / secondary special  Single / not married  House / apartment   \n",
       "2      Secondary / secondary special  Single / not married  House / apartment   \n",
       "3                   Higher education               Married  House / apartment   \n",
       "4                  Incomplete higher               Married  House / apartment   \n",
       "...                              ...                   ...                ...   \n",
       "16645  Secondary / secondary special        Civil marriage  House / apartment   \n",
       "16646  Secondary / secondary special               Married  House / apartment   \n",
       "16647  Secondary / secondary special               Married  House / apartment   \n",
       "16648  Secondary / secondary special               Married  House / apartment   \n",
       "16649               Higher education               Married  House / apartment   \n",
       "\n",
       "           idade  tempo_emprego  possui_celular  possui_fone_comercial  \\\n",
       "0      58.832877       3.106849               1                      0   \n",
       "1      52.356164       8.358904               1                      0   \n",
       "2      52.356164       8.358904               1                      0   \n",
       "3      46.224658       2.106849               1                      1   \n",
       "4      29.230137       3.021918               1                      0   \n",
       "...          ...            ...             ...                    ...   \n",
       "16645  54.109589       9.884932               1                      0   \n",
       "16646  43.389041       7.380822               1                      1   \n",
       "16647  30.005479       9.800000               1                      1   \n",
       "16648  30.005479       9.800000               1                      1   \n",
       "16649  33.936986       3.630137               1                      0   \n",
       "\n",
       "       possui_fone  possui_email  qt_pessoas_residencia    mau  \n",
       "0                0             0                    2.0  False  \n",
       "1                1             1                    1.0  False  \n",
       "2                1             1                    1.0  False  \n",
       "3                1             1                    2.0  False  \n",
       "4                0             0                    2.0  False  \n",
       "...            ...           ...                    ...    ...  \n",
       "16645            0             0                    2.0   True  \n",
       "16646            1             0                    2.0   True  \n",
       "16647            0             0                    2.0   True  \n",
       "16648            0             0                    2.0   True  \n",
       "16649            1             1                    2.0   True  \n",
       "\n",
       "[16650 rows x 16 columns]>"
      ]
     },
     "execution_count": 6,
     "metadata": {},
     "output_type": "execute_result"
    }
   ],
   "source": [
    "df.info"
   ]
  },
  {
   "cell_type": "code",
   "execution_count": 7,
   "metadata": {},
   "outputs": [
    {
     "data": {
      "text/plain": [
       "Index(['sexo', 'posse_de_veiculo', 'posse_de_imovel', 'qtd_filhos',\n",
       "       'tipo_renda', 'educacao', 'estado_civil', 'tipo_residencia', 'idade',\n",
       "       'tempo_emprego', 'possui_celular', 'possui_fone_comercial',\n",
       "       'possui_fone', 'possui_email', 'qt_pessoas_residencia', 'mau'],\n",
       "      dtype='object')"
      ]
     },
     "execution_count": 7,
     "metadata": {},
     "output_type": "execute_result"
    }
   ],
   "source": [
    "df.columns"
   ]
  },
  {
   "cell_type": "code",
   "execution_count": 17,
   "metadata": {},
   "outputs": [
    {
     "name": "stdout",
     "output_type": "stream",
     "text": [
      "sexo                      object\n",
      "posse_de_veiculo          object\n",
      "posse_de_imovel           object\n",
      "qtd_filhos                 int64\n",
      "tipo_renda                object\n",
      "educacao                  object\n",
      "estado_civil              object\n",
      "tipo_residencia           object\n",
      "idade                    float64\n",
      "tempo_emprego            float64\n",
      "possui_celular             int64\n",
      "possui_fone_comercial      int64\n",
      "possui_fone                int64\n",
      "possui_email               int64\n",
      "qt_pessoas_residencia    float64\n",
      "mau                         bool\n",
      "dtype: object\n"
     ]
    }
   ],
   "source": [
    "tipos = df.dtypes\n",
    "print(tipos)"
   ]
  },
  {
   "cell_type": "code",
   "execution_count": 9,
   "metadata": {},
   "outputs": [
    {
     "data": {
      "text/plain": [
       "sexo                     0\n",
       "posse_de_veiculo         0\n",
       "posse_de_imovel          0\n",
       "qtd_filhos               0\n",
       "tipo_renda               0\n",
       "educacao                 0\n",
       "estado_civil             0\n",
       "tipo_residencia          0\n",
       "idade                    0\n",
       "tempo_emprego            0\n",
       "possui_celular           0\n",
       "possui_fone_comercial    0\n",
       "possui_fone              0\n",
       "possui_email             0\n",
       "qt_pessoas_residencia    0\n",
       "mau                      0\n",
       "dtype: int64"
      ]
     },
     "execution_count": 9,
     "metadata": {},
     "output_type": "execute_result"
    }
   ],
   "source": [
    "df.isnull().sum()"
   ]
  },
  {
   "cell_type": "code",
   "execution_count": 12,
   "metadata": {},
   "outputs": [
    {
     "data": {
      "text/html": [
       "<div>\n",
       "<style scoped>\n",
       "    .dataframe tbody tr th:only-of-type {\n",
       "        vertical-align: middle;\n",
       "    }\n",
       "\n",
       "    .dataframe tbody tr th {\n",
       "        vertical-align: top;\n",
       "    }\n",
       "\n",
       "    .dataframe thead th {\n",
       "        text-align: right;\n",
       "    }\n",
       "</style>\n",
       "<table border=\"1\" class=\"dataframe\">\n",
       "  <thead>\n",
       "    <tr style=\"text-align: right;\">\n",
       "      <th></th>\n",
       "      <th>sexo</th>\n",
       "      <th>posse_de_veiculo</th>\n",
       "      <th>posse_de_imovel</th>\n",
       "      <th>qtd_filhos</th>\n",
       "      <th>tipo_renda</th>\n",
       "      <th>educacao</th>\n",
       "      <th>estado_civil</th>\n",
       "      <th>tipo_residencia</th>\n",
       "      <th>idade</th>\n",
       "      <th>tempo_emprego</th>\n",
       "      <th>possui_celular</th>\n",
       "      <th>possui_fone_comercial</th>\n",
       "      <th>possui_fone</th>\n",
       "      <th>possui_email</th>\n",
       "      <th>qt_pessoas_residencia</th>\n",
       "    </tr>\n",
       "  </thead>\n",
       "  <tbody>\n",
       "    <tr>\n",
       "      <th>0</th>\n",
       "      <td>M</td>\n",
       "      <td>Y</td>\n",
       "      <td>Y</td>\n",
       "      <td>0</td>\n",
       "      <td>Working</td>\n",
       "      <td>Secondary / secondary special</td>\n",
       "      <td>Married</td>\n",
       "      <td>House / apartment</td>\n",
       "      <td>58.832877</td>\n",
       "      <td>3.106849</td>\n",
       "      <td>1</td>\n",
       "      <td>0</td>\n",
       "      <td>0</td>\n",
       "      <td>0</td>\n",
       "      <td>2.0</td>\n",
       "    </tr>\n",
       "    <tr>\n",
       "      <th>1</th>\n",
       "      <td>F</td>\n",
       "      <td>N</td>\n",
       "      <td>Y</td>\n",
       "      <td>0</td>\n",
       "      <td>Commercial associate</td>\n",
       "      <td>Secondary / secondary special</td>\n",
       "      <td>Single / not married</td>\n",
       "      <td>House / apartment</td>\n",
       "      <td>52.356164</td>\n",
       "      <td>8.358904</td>\n",
       "      <td>1</td>\n",
       "      <td>0</td>\n",
       "      <td>1</td>\n",
       "      <td>1</td>\n",
       "      <td>1.0</td>\n",
       "    </tr>\n",
       "    <tr>\n",
       "      <th>2</th>\n",
       "      <td>F</td>\n",
       "      <td>N</td>\n",
       "      <td>Y</td>\n",
       "      <td>0</td>\n",
       "      <td>Commercial associate</td>\n",
       "      <td>Secondary / secondary special</td>\n",
       "      <td>Single / not married</td>\n",
       "      <td>House / apartment</td>\n",
       "      <td>52.356164</td>\n",
       "      <td>8.358904</td>\n",
       "      <td>1</td>\n",
       "      <td>0</td>\n",
       "      <td>1</td>\n",
       "      <td>1</td>\n",
       "      <td>1.0</td>\n",
       "    </tr>\n",
       "    <tr>\n",
       "      <th>3</th>\n",
       "      <td>M</td>\n",
       "      <td>Y</td>\n",
       "      <td>Y</td>\n",
       "      <td>0</td>\n",
       "      <td>Working</td>\n",
       "      <td>Higher education</td>\n",
       "      <td>Married</td>\n",
       "      <td>House / apartment</td>\n",
       "      <td>46.224658</td>\n",
       "      <td>2.106849</td>\n",
       "      <td>1</td>\n",
       "      <td>1</td>\n",
       "      <td>1</td>\n",
       "      <td>1</td>\n",
       "      <td>2.0</td>\n",
       "    </tr>\n",
       "    <tr>\n",
       "      <th>4</th>\n",
       "      <td>F</td>\n",
       "      <td>Y</td>\n",
       "      <td>N</td>\n",
       "      <td>0</td>\n",
       "      <td>Working</td>\n",
       "      <td>Incomplete higher</td>\n",
       "      <td>Married</td>\n",
       "      <td>House / apartment</td>\n",
       "      <td>29.230137</td>\n",
       "      <td>3.021918</td>\n",
       "      <td>1</td>\n",
       "      <td>0</td>\n",
       "      <td>0</td>\n",
       "      <td>0</td>\n",
       "      <td>2.0</td>\n",
       "    </tr>\n",
       "  </tbody>\n",
       "</table>\n",
       "</div>"
      ],
      "text/plain": [
       "  sexo posse_de_veiculo posse_de_imovel  qtd_filhos            tipo_renda  \\\n",
       "0    M                Y               Y           0               Working   \n",
       "1    F                N               Y           0  Commercial associate   \n",
       "2    F                N               Y           0  Commercial associate   \n",
       "3    M                Y               Y           0               Working   \n",
       "4    F                Y               N           0               Working   \n",
       "\n",
       "                        educacao          estado_civil    tipo_residencia  \\\n",
       "0  Secondary / secondary special               Married  House / apartment   \n",
       "1  Secondary / secondary special  Single / not married  House / apartment   \n",
       "2  Secondary / secondary special  Single / not married  House / apartment   \n",
       "3               Higher education               Married  House / apartment   \n",
       "4              Incomplete higher               Married  House / apartment   \n",
       "\n",
       "       idade  tempo_emprego  possui_celular  possui_fone_comercial  \\\n",
       "0  58.832877       3.106849               1                      0   \n",
       "1  52.356164       8.358904               1                      0   \n",
       "2  52.356164       8.358904               1                      0   \n",
       "3  46.224658       2.106849               1                      1   \n",
       "4  29.230137       3.021918               1                      0   \n",
       "\n",
       "   possui_fone  possui_email  qt_pessoas_residencia  \n",
       "0            0             0                    2.0  \n",
       "1            1             1                    1.0  \n",
       "2            1             1                    1.0  \n",
       "3            1             1                    2.0  \n",
       "4            0             0                    2.0  "
      ]
     },
     "execution_count": 12,
     "metadata": {},
     "output_type": "execute_result"
    }
   ],
   "source": [
    "df_sem_mau = df.drop(['mau'], axis=1)\n",
    "df_sem_mau.head()"
   ]
  },
  {
   "cell_type": "code",
   "execution_count": 15,
   "metadata": {},
   "outputs": [
    {
     "name": "stdout",
     "output_type": "stream",
     "text": [
      "mau\n",
      "False    97.657658\n",
      "True      2.342342\n",
      "Name: proportion, dtype: float64\n"
     ]
    }
   ],
   "source": [
    "# Distribuição da Variavel Mau\n",
    "\n",
    "distribuicao_mau = df['mau'].value_counts(normalize=True) * 100\n",
    "\n",
    "print(distribuicao_mau)"
   ]
  },
  {
   "cell_type": "code",
   "execution_count": 16,
   "metadata": {},
   "outputs": [
    {
     "data": {
      "image/png": "[encoded data removed]",
      "text/plain": [
       "<Figure size 640x480 with 1 Axes>"
      ]
     },
     "metadata": {},
     "output_type": "display_data"
    }
   ],
   "source": [
    "# Visualizando a Distribuição\n",
    "\n",
    "sns.countplot(data=df, x='mau')\n",
    "\n",
    "plt.title('Distribuição da variável resposta (mau)')\n",
    "\n",
    "plt.xlabel('mau')\n",
    "\n",
    "plt.ylabel('Contagem')\n",
    "\n",
    "plt.show()"
   ]
  },
  {
   "cell_type": "markdown",
   "metadata": {
    "id": "_v0f02mE_2si"
   },
   "source": [
    "#### 2) Vamos montar um metadados\n",
    "\n",
    "1. Crie um dataframe com os nomes de cada variável e o tipo de dados de cada variável.\n",
    "2. Adicione uma coluna nesse *dataframe* chamada \"qtd_categorias\" e coloque nela o número de categorias correspondente de cada variável.\n",
    "    Dica:\n",
    "        1. inicie uma lista vazia\n",
    "        2. faça um for ao longo dos nomes das variáveis,\n",
    "        3. conte o número de categorias dessa variável\n",
    "        4. acumule essa informação de 3. na lista que você criou em 1.\n",
    "        5. No final, essa lista pode ser atribuída à nossa variável."
   ]
  },
  {
   "cell_type": "code",
   "execution_count": 20,
   "metadata": {
    "id": "gNF5BRdA_2si"
   },
   "outputs": [
    {
     "name": "stdout",
     "output_type": "stream",
     "text": [
      "Index(['sexo', 'posse_de_veiculo', 'posse_de_imovel', 'qtd_filhos',\n",
      "       'tipo_renda', 'educacao', 'estado_civil', 'tipo_residencia', 'idade',\n",
      "       'tempo_emprego', 'possui_celular', 'possui_fone_comercial',\n",
      "       'possui_fone', 'possui_email', 'qt_pessoas_residencia', 'mau'],\n",
      "      dtype='object')\n",
      "[2, 2, 2, 8, 5, 5, 5, 6, 5298, 3005, 1, 2, 2, 2, 9, 2]\n"
     ]
    }
   ],
   "source": [
    "# Criando a lista\n",
    "\n",
    "# Variaveis\n",
    "nomes = df.columns\n",
    "tipos = df.dtypes\n",
    "qtd_categorias = []\n",
    "\n",
    "# Anexando quantidade de valores únicos à lista\n",
    "for col in nomes:\n",
    "    qtd_categorias.append(df[col].nunique())\n",
    "\n",
    "# Conferindo resultado\n",
    "print(nomes)\n",
    "print(qtd_categorias)"
   ]
  },
  {
   "cell_type": "code",
   "execution_count": 21,
   "metadata": {},
   "outputs": [
    {
     "name": "stdout",
     "output_type": "stream",
     "text": [
      "                                    variavel tipo_dado  qtd_categorias\n",
      "sexo                                    sexo    object               2\n",
      "posse_de_veiculo            posse_de_veiculo    object               2\n",
      "posse_de_imovel              posse_de_imovel    object               2\n",
      "qtd_filhos                        qtd_filhos     int64               8\n",
      "tipo_renda                        tipo_renda    object               5\n",
      "educacao                            educacao    object               5\n",
      "estado_civil                    estado_civil    object               5\n",
      "tipo_residencia              tipo_residencia    object               6\n",
      "idade                                  idade   float64            5298\n",
      "tempo_emprego                  tempo_emprego   float64            3005\n",
      "possui_celular                possui_celular     int64               1\n",
      "possui_fone_comercial  possui_fone_comercial     int64               2\n",
      "possui_fone                      possui_fone     int64               2\n",
      "possui_email                    possui_email     int64               2\n",
      "qt_pessoas_residencia  qt_pessoas_residencia   float64               9\n",
      "mau                                      mau      bool               2\n"
     ]
    }
   ],
   "source": [
    "# Criando DataFrame Metadados\n",
    "\n",
    "metadados = pd.DataFrame({\n",
    "    'variavel': nomes,\n",
    "    'tipo_dado': tipos,\n",
    "    'qtd_categorias': qtd_categorias\n",
    "})\n",
    "\n",
    "# Conferindo resultado\n",
    "\n",
    "print(metadados)"
   ]
  },
  {
   "cell_type": "markdown",
   "metadata": {
    "id": "h0XKJFhY_2si"
   },
   "source": [
    "#### 3) Crie variáveis dummy para as variáveis necessárias (i.e. aquelas que são qualitativas e não estão armazenadas como {0, 1} ou {True, False}. Crie um *dataframe* apenas com as variáveis apropriadas para entrada no scikitlearn - elimine as variáveis tipo *str*, mantendo apenas suas versões *dummy*."
   ]
  },
  {
   "cell_type": "code",
   "execution_count": 37,
   "metadata": {
    "id": "ePbdZDOi_2sj"
   },
   "outputs": [
    {
     "data": {
      "text/html": [
       "<div>\n",
       "<style scoped>\n",
       "    .dataframe tbody tr th:only-of-type {\n",
       "        vertical-align: middle;\n",
       "    }\n",
       "\n",
       "    .dataframe tbody tr th {\n",
       "        vertical-align: top;\n",
       "    }\n",
       "\n",
       "    .dataframe thead th {\n",
       "        text-align: right;\n",
       "    }\n",
       "</style>\n",
       "<table border=\"1\" class=\"dataframe\">\n",
       "  <thead>\n",
       "    <tr style=\"text-align: right;\">\n",
       "      <th></th>\n",
       "      <th>sexo_F</th>\n",
       "      <th>sexo_M</th>\n",
       "      <th>posse_de_veiculo_N</th>\n",
       "      <th>posse_de_veiculo_Y</th>\n",
       "      <th>posse_de_imovel_N</th>\n",
       "      <th>posse_de_imovel_Y</th>\n",
       "    </tr>\n",
       "  </thead>\n",
       "  <tbody>\n",
       "    <tr>\n",
       "      <th>0</th>\n",
       "      <td>False</td>\n",
       "      <td>True</td>\n",
       "      <td>False</td>\n",
       "      <td>True</td>\n",
       "      <td>False</td>\n",
       "      <td>True</td>\n",
       "    </tr>\n",
       "    <tr>\n",
       "      <th>1</th>\n",
       "      <td>True</td>\n",
       "      <td>False</td>\n",
       "      <td>True</td>\n",
       "      <td>False</td>\n",
       "      <td>False</td>\n",
       "      <td>True</td>\n",
       "    </tr>\n",
       "    <tr>\n",
       "      <th>2</th>\n",
       "      <td>True</td>\n",
       "      <td>False</td>\n",
       "      <td>True</td>\n",
       "      <td>False</td>\n",
       "      <td>False</td>\n",
       "      <td>True</td>\n",
       "    </tr>\n",
       "    <tr>\n",
       "      <th>3</th>\n",
       "      <td>False</td>\n",
       "      <td>True</td>\n",
       "      <td>False</td>\n",
       "      <td>True</td>\n",
       "      <td>False</td>\n",
       "      <td>True</td>\n",
       "    </tr>\n",
       "    <tr>\n",
       "      <th>4</th>\n",
       "      <td>True</td>\n",
       "      <td>False</td>\n",
       "      <td>False</td>\n",
       "      <td>True</td>\n",
       "      <td>True</td>\n",
       "      <td>False</td>\n",
       "    </tr>\n",
       "  </tbody>\n",
       "</table>\n",
       "</div>"
      ],
      "text/plain": [
       "   sexo_F  sexo_M  posse_de_veiculo_N  posse_de_veiculo_Y  posse_de_imovel_N  \\\n",
       "0   False    True               False                True              False   \n",
       "1    True   False                True               False              False   \n",
       "2    True   False                True               False              False   \n",
       "3   False    True               False                True              False   \n",
       "4    True   False               False                True               True   \n",
       "\n",
       "   posse_de_imovel_Y  \n",
       "0               True  \n",
       "1               True  \n",
       "2               True  \n",
       "3               True  \n",
       "4              False  "
      ]
     },
     "execution_count": 37,
     "metadata": {},
     "output_type": "execute_result"
    }
   ],
   "source": [
    "# Separando variaveis em numéricas e categóricas\n",
    "\n",
    "variaveis_numericas = df.select_dtypes(include=['int64', 'float64', 'bool'])\n",
    "variaveis_categoricas = df.select_dtypes(include=['object'])\n",
    "\n",
    "# Separando as categóricas necessárias das desnecessarias \n",
    "## Para quantidades maiores de variaveis, se dtype = 'object' E qtd_categorias <=2 append em uma lista\n",
    "\n",
    "variaveis_relevantes = variaveis_categoricas.drop(['tipo_renda', 'educacao', 'estado_civil', 'tipo_residencia'], axis=1)\n",
    "\n",
    "# Criando os dummies da variaveis categoricas\n",
    "\n",
    "dummies = pd.get_dummies(variaveis_relevantes)\n",
    "\n",
    "# Conferindo resultado\n",
    "dummies.head()"
   ]
  },
  {
   "cell_type": "code",
   "execution_count": 39,
   "metadata": {},
   "outputs": [
    {
     "name": "stdout",
     "output_type": "stream",
     "text": [
      "   qtd_filhos      idade  tempo_emprego  possui_celular  \\\n",
      "0           0  58.832877       3.106849               1   \n",
      "1           0  52.356164       8.358904               1   \n",
      "2           0  52.356164       8.358904               1   \n",
      "3           0  46.224658       2.106849               1   \n",
      "4           0  29.230137       3.021918               1   \n",
      "\n",
      "   possui_fone_comercial  possui_fone  possui_email  qt_pessoas_residencia  \\\n",
      "0                      0            0             0                    2.0   \n",
      "1                      0            1             1                    1.0   \n",
      "2                      0            1             1                    1.0   \n",
      "3                      1            1             1                    2.0   \n",
      "4                      0            0             0                    2.0   \n",
      "\n",
      "     mau  sexo_F  sexo_M  posse_de_veiculo_N  posse_de_veiculo_Y  \\\n",
      "0  False   False    True               False                True   \n",
      "1  False    True   False                True               False   \n",
      "2  False    True   False                True               False   \n",
      "3  False   False    True               False                True   \n",
      "4  False    True   False               False                True   \n",
      "\n",
      "   posse_de_imovel_N  posse_de_imovel_Y  \n",
      "0              False               True  \n",
      "1              False               True  \n",
      "2              False               True  \n",
      "3              False               True  \n",
      "4               True              False  \n",
      "\n",
      "Formato final: (16650, 15)\n"
     ]
    }
   ],
   "source": [
    "# Criando DataFrame para o Scikit-Learn\n",
    "\n",
    "df_sklearn = pd.concat([variaveis_numericas, dummies], axis=1)\n",
    "\n",
    "# Conferindo Resultado\n",
    "\n",
    "print(df_sklearn.head())\n",
    "print(\"\\nFormato final:\", df_sklearn.shape)"
   ]
  },
  {
   "cell_type": "markdown",
   "metadata": {
    "id": "uhaqFcPE_2sj"
   },
   "source": [
    "#### 4) Qual variável é mais poderosa?\n",
    "\n",
    "Considere as variáveis ```possui_email``` e ```posse_de_veiculo```. Faça uma tabela cruzada entre elas e responda qual delas te parece mais poderosa para prever a probabilidade de ```mau = 1```?"
   ]
  },
  {
   "cell_type": "code",
   "execution_count": 41,
   "metadata": {
    "id": "3wUAHc_-_2sj"
   },
   "outputs": [
    {
     "name": "stdout",
     "output_type": "stream",
     "text": [
      "Distribuição do mau por possui_email:\n",
      " mau               False     True \n",
      "possui_email                     \n",
      "0             97.626895  2.373105\n",
      "1             97.972973  2.027027 \n",
      "\n"
     ]
    }
   ],
   "source": [
    "# Tabela cruzada email\n",
    "tabela_email = pd.crosstab(df['possui_email'], df['mau'], normalize='index') * 100\n",
    "print(\"Distribuição do mau por possui_email:\\n\", tabela_email, \"\\n\")"
   ]
  },
  {
   "cell_type": "code",
   "execution_count": 42,
   "metadata": {},
   "outputs": [
    {
     "name": "stdout",
     "output_type": "stream",
     "text": [
      "Distribuição do mau por posse_de_veiculo:\n",
      " mau                   False     True \n",
      "posse_de_veiculo                     \n",
      "N                 97.573197  2.426803\n",
      "Y                 97.790482  2.209518 \n",
      "\n"
     ]
    }
   ],
   "source": [
    "# Tabela cruzada veiculos\n",
    "tabela_veiculo = pd.crosstab(df['posse_de_veiculo'], df['mau'], normalize='index') * 100\n",
    "print(\"Distribuição do mau por posse_de_veiculo:\\n\", tabela_veiculo, \"\\n\")"
   ]
  },
  {
   "cell_type": "code",
   "execution_count": 60,
   "metadata": {},
   "outputs": [
    {
     "data": {
      "text/plain": [
       "Index([False, True], dtype='bool', name='mau')"
      ]
     },
     "execution_count": 60,
     "metadata": {},
     "output_type": "execute_result"
    }
   ],
   "source": [
    "tabela_veiculo.columns"
   ]
  },
  {
   "cell_type": "code",
   "execution_count": 87,
   "metadata": {},
   "outputs": [
    {
     "data": {
      "text/html": [
       "<div>\n",
       "<style scoped>\n",
       "    .dataframe tbody tr th:only-of-type {\n",
       "        vertical-align: middle;\n",
       "    }\n",
       "\n",
       "    .dataframe tbody tr th {\n",
       "        vertical-align: top;\n",
       "    }\n",
       "\n",
       "    .dataframe thead th {\n",
       "        text-align: right;\n",
       "    }\n",
       "</style>\n",
       "<table border=\"1\" class=\"dataframe\">\n",
       "  <thead>\n",
       "    <tr style=\"text-align: right;\">\n",
       "      <th></th>\n",
       "      <th>Categoria</th>\n",
       "      <th>Possui e-mail</th>\n",
       "      <th>Posse de veículo</th>\n",
       "    </tr>\n",
       "  </thead>\n",
       "  <tbody>\n",
       "    <tr>\n",
       "      <th>0</th>\n",
       "      <td>Não possui</td>\n",
       "      <td>2.373105</td>\n",
       "      <td>2.426803</td>\n",
       "    </tr>\n",
       "    <tr>\n",
       "      <th>1</th>\n",
       "      <td>Possui</td>\n",
       "      <td>2.027027</td>\n",
       "      <td>2.209518</td>\n",
       "    </tr>\n",
       "  </tbody>\n",
       "</table>\n",
       "</div>"
      ],
      "text/plain": [
       "    Categoria  Possui e-mail  Posse de veículo\n",
       "0  Não possui       2.373105          2.426803\n",
       "1      Possui       2.027027          2.209518"
      ]
     },
     "execution_count": 87,
     "metadata": {},
     "output_type": "execute_result"
    }
   ],
   "source": [
    "# Visualização\n",
    "\n",
    "# Criando DataFrame dos dois juntos\n",
    "\n",
    "# Resetando o índice para evitar conflito que estava ocorrendo\n",
    "tabela_email = tabela_email.reset_index()\n",
    "tabela_veiculo = tabela_veiculo.reset_index()\n",
    "\n",
    "# Renomeando as colunas para facilitar o merge\n",
    "tabela_email.rename(columns={1: 'Taxa mau (possui_email)'}, inplace=True)\n",
    "tabela_veiculo.rename(columns={1: 'Taxa mau (posse_de_veiculo)'}, inplace=True)\n",
    "\n",
    "\n",
    "comparativo = pd.DataFrame({\n",
    "    'Categoria': ['Não possui', 'Possui'],\n",
    "    'Possui e-mail': tabela_email['Taxa mau (possui_email)'],\n",
    "    'Posse de veículo': tabela_veiculo['Taxa mau (posse_de_veiculo)']\n",
    "})\n",
    "\n",
    "# Conferindo resultado\n",
    "\n",
    "comparativo.head()"
   ]
  },
  {
   "cell_type": "code",
   "execution_count": 107,
   "metadata": {},
   "outputs": [
    {
     "data": {
      "image/png": "[encoded data removed]",
      "text/plain": [
       "<Figure size 800x500 with 1 Axes>"
      ]
     },
     "metadata": {},
     "output_type": "display_data"
    }
   ],
   "source": [
    "# Visualização\n",
    "\n",
    "# Atribuição\n",
    "ax = comparativo.set_index('Categoria')[['Possui e-mail', 'Posse de veículo']].plot(\n",
    "    kind='bar', figsize=(8,5), edgecolor='black'\n",
    ")\n",
    "\n",
    "# Aumentando a quantidade de divisões no eixo Y\n",
    "ax.yaxis.set_major_locator(MultipleLocator(0.2))  # 5 em 5%\n",
    "\n",
    "# Plotagem\n",
    "plt.title('Taxa de Mau Pagador (mau = 1) por Variável')\n",
    "plt.ylabel('% de Mau Pagadores')\n",
    "plt.xlabel('')\n",
    "plt.xticks(rotation=30)\n",
    "plt.grid(axis='y', linestyle='-', alpha=0.3)\n",
    "plt.tight_layout()\n",
    "plt.show()"
   ]
  },
  {
   "cell_type": "markdown",
   "metadata": {},
   "source": [
    "#### R: É possivel então concluir que Posse de Veículo explica melhor a ocorrencia de Default\n",
    "\n"
   ]
  },
  {
   "cell_type": "markdown",
   "metadata": {},
   "source": [
    "#####"
   ]
  },
  {
   "cell_type": "markdown",
   "metadata": {
    "id": "G2Issl2e_2sj"
   },
   "source": [
    "#### 5) Salve a base, pois ela será utilizada no final deste módulo."
   ]
  },
  {
   "cell_type": "code",
   "execution_count": 108,
   "metadata": {
    "id": "KSEj8OL9_2sk"
   },
   "outputs": [],
   "source": [
    "# Salvabdi base de dados\n",
    "\n",
    "df_sklearn.to_csv('df_sklearn.csv', index=False)"
   ]
  },
  {
   "cell_type": "code",
   "execution_count": null,
   "metadata": {},
   "outputs": [],
   "source": []
  }
 ],
 "metadata": {
  "colab": {
   "provenance": []
  },
  "kernelspec": {
   "display_name": "Python [conda env:base] *",
   "language": "python",
   "name": "conda-base-py"
  },
  "language_info": {
   "codemirror_mode": {
    "name": "ipython",
    "version": 3
   },
   "file_extension": ".py",
   "mimetype": "text/x-python",
   "name": "python",
   "nbconvert_exporter": "python",
   "pygments_lexer": "ipython3",
   "version": "3.13.5"
  }
 },
 "nbformat": 4,
 "nbformat_minor": 4
}
